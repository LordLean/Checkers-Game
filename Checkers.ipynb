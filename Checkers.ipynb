{
  "nbformat": 4,
  "nbformat_minor": 0,
  "metadata": {
    "colab": {
      "name": "Checkers.ipynb",
      "provenance": [],
      "collapsed_sections": [],
      "authorship_tag": "ABX9TyO9Jtecon6CwqbO69LTHngA",
      "include_colab_link": true
    },
    "kernelspec": {
      "name": "python3",
      "display_name": "Python 3"
    }
  },
  "cells": [
    {
      "cell_type": "markdown",
      "metadata": {
        "id": "view-in-github",
        "colab_type": "text"
      },
      "source": [
        "<a href=\"https://colab.research.google.com/github/LordLean/Checkers-Game/blob/main/Checkers.ipynb\" target=\"_parent\"><img src=\"https://colab.research.google.com/assets/colab-badge.svg\" alt=\"Open In Colab\"/></a>"
      ]
    },
    {
      "cell_type": "code",
      "metadata": {
        "id": "F0U_cAFfwDsZ"
      },
      "source": [
        "import numpy as np"
      ],
      "execution_count": 1,
      "outputs": []
    },
    {
      "cell_type": "code",
      "metadata": {
        "id": "qBvPZdzi-UgJ"
      },
      "source": [
        "class Piece:\n",
        "\n",
        "  def __init__(self, row, column, colour):\n",
        "    self.row = row\n",
        "    self.column = column\n",
        "    self.colour = colour\n",
        "    self.king = False\n",
        "\n",
        "  def set_position(self, row, column):\n",
        "    self.row = row\n",
        "    self.column = column\n",
        "\n",
        "  def get_position(self):\n",
        "    pos = (self.row, self.column)\n",
        "    return pos\n",
        "\n",
        "  def set_king(self):\n",
        "    self.king = True\n",
        "  \n",
        "  def is_king(self):\n",
        "    return self.king"
      ],
      "execution_count": 2,
      "outputs": []
    },
    {
      "cell_type": "code",
      "metadata": {
        "id": "gAUYGcLFgVJc"
      },
      "source": [
        "class GameBoard(object):\n",
        "\n",
        "\n",
        "  def __init__(self):\n",
        "    self.board = np.zeros(shape=(8,8)).astype(\"int\").tolist()\n",
        "    self.player_count = 0\n",
        "\n",
        "\n",
        "  def setup_board(self):\n",
        "    # Start player 2 at \"top\" of board.\n",
        "    colour = 2\n",
        "    # Counter to switch to using player 1 identifier.\n",
        "    counter = 0 \n",
        "    ln = len(self.board)\n",
        "    for row_index in range(ln):\n",
        "      if self.is_even(row_index) and row_index != 4:\n",
        "        self.board[row_index] = [colour,0,colour,0,colour,0,colour,0]\n",
        "      elif not self.is_even(row_index) and row_index != 3:\n",
        "        self.board[row_index] = [0,colour,0,colour,0,colour,0,colour]\n",
        "      counter += 1\n",
        "      if counter == 4:\n",
        "        colour = 1\n",
        "    # Messy Setup.\n",
        "    for row_index in range(ln):\n",
        "      for col_index in range(ln):\n",
        "        if self.board[row_index][col_index] != 0:\n",
        "          colour = self.board[row_index][col_index]\n",
        "          if colour == 1: \n",
        "            colour = \"RED\"\n",
        "          else: \n",
        "            colour = \"BLACK\"\n",
        "          self.board[row_index][col_index] = Piece(row_index, col_index, colour) \n",
        "\n",
        "\n",
        "  def get_valid_moves(self, Piece, direction):\n",
        "    # End function if non player piece.\n",
        "    try:\n",
        "      # Get row, column (indicies) from tuple object piece.\n",
        "      row, column = Piece.row, Piece.column\n",
        "    except AttributeError:\n",
        "      print(\"No valid moves for an empty space!\")\n",
        "      return\n",
        "    # Get player 1 or 2.\n",
        "    player = self.board[row][column]\n",
        "    # Potential next moves list.\n",
        "    next_move_list = []\n",
        "    # Next row - dependent on player.\n",
        "    next_row = None\n",
        "    if direction == \"+\":\n",
        "      next_row = row + 1\n",
        "      next_next_row = row + 2\n",
        "    elif direction == \"-\":\n",
        "      next_row = row - 1\n",
        "      next_next_row = row - 2\n",
        "    # List to hold columns on either side.\n",
        "    left_right = [column-1,column+1]\n",
        "    # Loop through left right options.\n",
        "    for next_col in left_right:\n",
        "      if next_col in range(8):\n",
        "        next_space = (next_row,next_col)\n",
        "        # Check state of potential next square.\n",
        "        # Case: Empty square.\n",
        "        if self.whats_in_the_box(next_space) == 0:\n",
        "          next_move_list.append(next_space)\n",
        "        # Case: Opponent-Occupied square.\n",
        "        # If next space is opponent and next next space is clear.\n",
        "        elif self.whats_in_the_box(next_space) != player: # This could be refined to check if == opponent. \n",
        "          # Assign next next column indicies.\n",
        "          next_next_col = None\n",
        "          if next_col == column - 1:\n",
        "            next_next_col = column - 2\n",
        "          else:\n",
        "            next_next_col = column + 2\n",
        "          next_next_space = (next_next_row, next_next_col)\n",
        "          if self.whats_in_the_box(next_next_space) == 0:\n",
        "            # self.remove_piece(next_row,next_col)\n",
        "            next_move_list.append(next_next_space)\n",
        "    return next_move_list  \n",
        "\n",
        "\n",
        "  def move_piece(self, Piece, next_position):\n",
        "    row, col = Piece.row, Piece.column\n",
        "    space = (row, col)\n",
        "    self.remove_piece(space)\n",
        "    new_row, new_col = next_position\n",
        "    self.board[new_row][new_col] = Piece\n",
        "\n",
        "  def remove_piece(self,space):\n",
        "    self.board[space[0]][space[1]] = 0\n",
        "\n",
        "  def whats_in_the_box(self,space):\n",
        "    return self.board[space[0]][space[1]]\n",
        "\n",
        "  def is_even(self,num):\n",
        "    return (num % 2) == 0 "
      ],
      "execution_count": 3,
      "outputs": []
    },
    {
      "cell_type": "code",
      "metadata": {
        "id": "24O_QG9voKhl",
        "outputId": "efce6205-2817-4623-9bb6-da122a68c9aa",
        "colab": {
          "base_uri": "https://localhost:8080/"
        }
      },
      "source": [
        "gb = GameBoard()\n",
        "gb.setup_board()\n",
        "\n",
        "gb.board[4][2] = 1\n",
        "\n",
        "row, col = 5, 1\n",
        "test_piece = gb.board[row][col]\n",
        "gb.get_valid_moves(test_piece,\"-\")"
      ],
      "execution_count": 6,
      "outputs": [
        {
          "output_type": "execute_result",
          "data": {
            "text/plain": [
              "[(4, 0), (3, 3)]"
            ]
          },
          "metadata": {
            "tags": []
          },
          "execution_count": 6
        }
      ]
    },
    {
      "cell_type": "code",
      "metadata": {
        "id": "byue1jsvwd2_"
      },
      "source": [
        "\"\"\"\n",
        "[2, 0, 2, 0, 2, 0, 2, 0] \n",
        "\n",
        "[0, 2, 0, 2, 0, 2, 0, 2] \n",
        "\n",
        "[0, 0, 2, 0, 2, 0, 2, 0] \n",
        "\n",
        "[0, 2, 0, 0, 0, 0, 0, 0] \n",
        "\n",
        "[0, 0, 0, 0, 0, 0, 0, 0] \n",
        "\n",
        "[0, 1, 0, 1, 0, 1, 0, 1] \n",
        "\n",
        "[1, 0, 1, 0, 1, 0, 1, 0] \n",
        "\n",
        "[0, 1, 0, 1, 0, 1, 0, 1] \n",
        "\"\"\""
      ],
      "execution_count": null,
      "outputs": []
    }
  ]
}