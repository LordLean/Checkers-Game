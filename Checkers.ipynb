{
  "nbformat": 4,
  "nbformat_minor": 0,
  "metadata": {
    "colab": {
      "name": "Checkers.ipynb",
      "provenance": [],
      "collapsed_sections": [],
      "authorship_tag": "ABX9TyNbK+TtRdPqzt90dghsgYRa",
      "include_colab_link": true
    },
    "kernelspec": {
      "name": "python3",
      "display_name": "Python 3"
    }
  },
  "cells": [
    {
      "cell_type": "markdown",
      "metadata": {
        "id": "view-in-github",
        "colab_type": "text"
      },
      "source": [
        "<a href=\"https://colab.research.google.com/github/LordLean/Checkers-Game/blob/main/Checkers.ipynb\" target=\"_parent\"><img src=\"https://colab.research.google.com/assets/colab-badge.svg\" alt=\"Open In Colab\"/></a>"
      ]
    },
    {
      "cell_type": "code",
      "metadata": {
        "id": "F0U_cAFfwDsZ"
      },
      "source": [
        "import numpy as np"
      ],
      "execution_count": 1,
      "outputs": []
    },
    {
      "cell_type": "code",
      "metadata": {
        "id": "gAUYGcLFgVJc"
      },
      "source": [
        "class GameBoard(object):\n",
        "\n",
        "\n",
        "  def __init__(self):\n",
        "    self.board = np.zeros(shape=(8,8)).astype(\"int\").tolist()\n",
        "    self.player_count = 0\n",
        "\n",
        "\n",
        "  def setup_board(self):\n",
        "    # Start player 2 at \"top\" of board.\n",
        "    colour = 2\n",
        "    # Counter to switch to using player 1 identifier.\n",
        "    counter = 0 \n",
        "    ln = len(self.board)\n",
        "    for row_index in range(ln):\n",
        "      if self.is_even(row_index) and row_index != 4:\n",
        "        self.board[row_index] = [colour,0,colour,0,colour,0,colour,0]\n",
        "      elif not self.is_even(row_index) and row_index != 3:\n",
        "        self.board[row_index] = [0,colour,0,colour,0,colour,0,colour]\n",
        "      counter += 1\n",
        "      if counter == 4:\n",
        "        colour = 1\n",
        "\n",
        "\n",
        "  def get_valid_moves(self, piece, direction):\n",
        "    # Get row, column (indicies) from tuple object piece.\n",
        "    row, column = piece\n",
        "    # Get player 1 or 2.\n",
        "    player = self.board[row][column]\n",
        "    # End function if non player piece.\n",
        "    if player == 0:\n",
        "      return\n",
        "    # Potential next moves list.\n",
        "    next_move_list = []\n",
        "    # Next row - dependent on player.\n",
        "    next_row = None\n",
        "    if direction == \"+\":\n",
        "      next_row = row + 1\n",
        "      next_next_row = row + 2\n",
        "    elif direction == \"-\":\n",
        "      next_row = row - 1\n",
        "      next_next_row = row - 2\n",
        "    # List to hold columns on either side.\n",
        "    left_right = [column-1,column+1]\n",
        "    # Loop through left right options.\n",
        "    for next_col in left_right:\n",
        "      if next_col in range(8):\n",
        "        next_space = (next_row,next_col)\n",
        "        # Check state of potential next square.\n",
        "        # Case: Empty square.\n",
        "        if self.whats_in_the_box(next_space) == 0:\n",
        "          next_move_list.append(next_space)\n",
        "        # Case: Opponent-Occupied square.\n",
        "        # If next space is opponent and next next space is clear.\n",
        "        elif self.whats_in_the_box(next_space) != player: # This could be refined to check if == opponent. \n",
        "          # Assign next next column indicies.\n",
        "          next_next_col = None\n",
        "          if next_col == column - 1:\n",
        "            next_next_col = column - 2\n",
        "          else:\n",
        "            next_next_col = column + 2\n",
        "          next_next_space = (next_next_row, next_next_col)\n",
        "          if self.whats_in_the_box(next_next_space) == 0:\n",
        "            # self.remove_piece(next_row,next_col)\n",
        "            next_move_list.append(next_next_space)\n",
        "    return next_move_list  \n",
        "\n",
        "\n",
        "  def move_piece(self, original_space, next_space):\n",
        "    player = self.board[original_space[0]][original_space[1]]\n",
        "    if player not in [1,2]:\n",
        "      raise Exception(\"Trying to move piece from empty space.\") \n",
        "    self.remove_piece(original_space)\n",
        "    self.board[next_space[0]][next_space[1]] = player \n",
        "    \n",
        "  def remove_piece(self,space):\n",
        "    self.board[space[0]][space[1]] = 0\n",
        "\n",
        "  def whats_in_the_box(self,space):\n",
        "    return self.board[space[0]][space[1]]\n",
        "\n",
        "  def print_board(self):\n",
        "   for row in self.board:\n",
        "      print(row,\"\\n\")\n",
        "\n",
        "  def is_even(self,num):\n",
        "    return (num % 2) == 0 "
      ],
      "execution_count": 10,
      "outputs": []
    },
    {
      "cell_type": "code",
      "metadata": {
        "id": "24O_QG9voKhl"
      },
      "source": [
        "gb = GameBoard()\n",
        "gb.setup_board()"
      ],
      "execution_count": 14,
      "outputs": []
    },
    {
      "cell_type": "code",
      "metadata": {
        "id": "Ef30U9B_oNZn",
        "outputId": "f3ea71ea-161a-4ff4-bf44-74cd371d78ed",
        "colab": {
          "base_uri": "https://localhost:8080/"
        }
      },
      "source": [
        "valid_moves = gb.get_valid_moves((2,0),\"+\")\n",
        "gb.move_piece((2,0),valid_moves[0])\n",
        "gb.print_board()"
      ],
      "execution_count": 15,
      "outputs": [
        {
          "output_type": "stream",
          "text": [
            "[2, 0, 2, 0, 2, 0, 2, 0] \n",
            "\n",
            "[0, 2, 0, 2, 0, 2, 0, 2] \n",
            "\n",
            "[0, 0, 2, 0, 2, 0, 2, 0] \n",
            "\n",
            "[0, 2, 0, 0, 0, 0, 0, 0] \n",
            "\n",
            "[0, 0, 0, 0, 0, 0, 0, 0] \n",
            "\n",
            "[0, 1, 0, 1, 0, 1, 0, 1] \n",
            "\n",
            "[1, 0, 1, 0, 1, 0, 1, 0] \n",
            "\n",
            "[0, 1, 0, 1, 0, 1, 0, 1] \n",
            "\n"
          ],
          "name": "stdout"
        }
      ]
    },
    {
      "cell_type": "code",
      "metadata": {
        "id": "jOe9UtOzFgNo",
        "outputId": "391085e5-1dbc-4fad-85d0-af6332f32cec",
        "colab": {
          "base_uri": "https://localhost:8080/"
        }
      },
      "source": [
        "gb.setup_board()\n",
        "gb.print_board()\n",
        "print(\"\\n\\n\")\n",
        "gb.board[3][1] = 1\n",
        "gb.print_board()\n",
        "\n",
        "piece = (2,2)\n",
        "print(piece)\n",
        "print(gb.get_valid_moves(piece,\"+\"))\n"
      ],
      "execution_count": 5,
      "outputs": [
        {
          "output_type": "stream",
          "text": [
            "[2, 0, 2, 0, 2, 0, 2, 0] \n",
            "\n",
            "[0, 2, 0, 2, 0, 2, 0, 2] \n",
            "\n",
            "[2, 0, 2, 0, 2, 0, 2, 0] \n",
            "\n",
            "[0, 0, 0, 0, 0, 0, 0, 0] \n",
            "\n",
            "[0, 0, 0, 0, 0, 0, 0, 0] \n",
            "\n",
            "[0, 1, 0, 1, 0, 1, 0, 1] \n",
            "\n",
            "[1, 0, 1, 0, 1, 0, 1, 0] \n",
            "\n",
            "[0, 1, 0, 1, 0, 1, 0, 1] \n",
            "\n",
            "\n",
            "\n",
            "\n",
            "[2, 0, 2, 0, 2, 0, 2, 0] \n",
            "\n",
            "[0, 2, 0, 2, 0, 2, 0, 2] \n",
            "\n",
            "[2, 0, 2, 0, 2, 0, 2, 0] \n",
            "\n",
            "[0, 1, 0, 0, 0, 0, 0, 0] \n",
            "\n",
            "[0, 0, 0, 0, 0, 0, 0, 0] \n",
            "\n",
            "[0, 1, 0, 1, 0, 1, 0, 1] \n",
            "\n",
            "[1, 0, 1, 0, 1, 0, 1, 0] \n",
            "\n",
            "[0, 1, 0, 1, 0, 1, 0, 1] \n",
            "\n",
            "(2, 2)\n",
            "[(4, 0), (3, 3)]\n"
          ],
          "name": "stdout"
        }
      ]
    },
    {
      "cell_type": "code",
      "metadata": {
        "id": "Sq8yLpQrCo1e"
      },
      "source": [
        "row = 5\n",
        "for col_index in range(len(gb.board[2])):\n",
        "  print(\"row:{}, col:{}\".format(row,col_index))\n",
        "  print(gb.get_valid_moves((row,col_index),\"-\"))\n",
        "  print(\"\\n\\n\")\n"
      ],
      "execution_count": null,
      "outputs": []
    }
  ]
}